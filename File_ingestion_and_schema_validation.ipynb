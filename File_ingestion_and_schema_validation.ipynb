{
  "nbformat": 4,
  "nbformat_minor": 0,
  "metadata": {
    "colab": {
      "provenance": []
    },
    "kernelspec": {
      "name": "python3",
      "display_name": "Python 3"
    },
    "language_info": {
      "name": "python"
    }
  },
  "cells": [
    {
      "cell_type": "code",
      "execution_count": null,
      "metadata": {
        "colab": {
          "base_uri": "https://localhost:8080/"
        },
        "id": "pl6gBbjUEKVf",
        "outputId": "0786b4c5-b998-4334-872f-f43714eb7733"
      },
      "outputs": [
        {
          "output_type": "stream",
          "name": "stdout",
          "text": [
            "Overwriting testutility.py\n"
          ]
        }
      ],
      "source": [
        "%%writefile testutility.py\n",
        "import logging\n",
        "import os\n",
        "import subprocess\n",
        "import yaml\n",
        "import pandas as pd\n",
        "import datetime\n",
        "import gc\n",
        "import re\n",
        "\n",
        "def read_config_file(filepath):\n",
        "    with open(filepath, 'r') as stream:\n",
        "        try:\n",
        "            return yaml.safe_load(stream)\n",
        "        except yaml.YAMLError as exc:\n",
        "            logging.error(exc)\n",
        "z\n",
        "def replacer(string, char):\n",
        "    pattern = char + \"{2,}\"\n",
        "    string = re.sub(pattern, char, string)\n",
        "    return string\n",
        "\n",
        "# validates the column data\n",
        "def col_header_val(df, table_config):\n",
        "    \"\"\"\n",
        "    replace whitespaces in the column and standardized column names\n",
        "    \"\"\"\n",
        "    df.columns = df.columns.str.lower().str.strip().str.replace(r'\\s+', '_')\n",
        "    expected_col = list(map(str.lower, table_config['columns']))\n",
        "    expected_col.sort()\n",
        "    df.columns = df.columns.str.lower()\n",
        "    df = df.reindex(sorted(df.columns), axis=1)\n",
        "\n",
        "    if len(df.columns) == len(expected_col) and list(expected_col) == list(df.columns):\n",
        "        print(\"Column name and column length validation passed\")\n",
        "        return 1\n",
        "    else:\n",
        "        print(\"Column name and column length validation failed\")\n",
        "        mismatched_columns_file = list(set(df.columns).difference(expected_col))\n",
        "        print(\"Following File columns are not in the YAML file:\", mismatched_columns_file)\n",
        "        logging.info(f'df columns: {df.columns}')\n",
        "        logging.info(f\"expected columns: {expected_col}\")\n",
        "        return 0\n"
      ]
    },
    {
      "cell_type": "code",
      "source": [
        "code = '''\n",
        "import logging\n",
        "import os\n",
        "import subprocess\n",
        "import yaml\n",
        "import pandas as pd\n",
        "import datetime\n",
        "import gc\n",
        "import re\n",
        "\n",
        "def read_config_file(filepath):\n",
        "    with open(filepath, 'r') as stream:\n",
        "        try:\n",
        "            return yaml.safe_load(stream)\n",
        "        except yaml.YAMLError as exc:\n",
        "            logging.error(exc)\n",
        "\n",
        "def replacer(string, char):\n",
        "    pattern = char + \"{2,}\"\n",
        "    string = re.sub(pattern, char, string)\n",
        "    return string\n",
        "\n",
        "def col_header_val(df, table_config):\n",
        "    \"\"\"\n",
        "    replace whitespaces in the column and standardized column names\n",
        "    \"\"\"\n",
        "    df.columns = df.columns.str.lower().str.strip().str.replace(r'\\s+', '_')\n",
        "\n",
        "    expected_col = list(map(str.lower, table_config['columns']))\n",
        "    expected_col.sort()\n",
        "\n",
        "    df = df.reindex(sorted(df.columns), axis=1)\n",
        "\n",
        "    if len(df.columns) == len(expected_col) and list(expected_col) == list(df.columns):\n",
        "        print(\"Column name and column length validation passed\")\n",
        "        return 1\n",
        "    else:\n",
        "        print(\"Column name and column length validation failed\")\n",
        "        mismatched_columns_file = list(set(df.columns).difference(expected_col))\n",
        "        print(\"Following File columns are not in the YAML file:\", mismatched_columns_file)\n",
        "        logging.info(f'df columns: {df.columns}')\n",
        "        logging.info(f\"expected columns: {expected_col}\")\n",
        "        return 0\n",
        "'''\n",
        "\n",
        "with open('testutility.py', 'w') as file:\n",
        "    file.write(code)\n"
      ],
      "metadata": {
        "id": "jUoXOP9eMcIv"
      },
      "execution_count": 72,
      "outputs": []
    },
    {
      "cell_type": "markdown",
      "source": [],
      "metadata": {
        "id": "afP3xAejI1jf"
      }
    },
    {
      "cell_type": "code",
      "source": [],
      "metadata": {
        "colab": {
          "base_uri": "https://localhost:8080/",
          "height": 140
        },
        "id": "3ASu6IMcE1EH",
        "outputId": "a6ab1b30-9e36-41b4-d02e-045852d61736"
      },
      "execution_count": null,
      "outputs": [
        {
          "output_type": "error",
          "ename": "SyntaxError",
          "evalue": "ignored",
          "traceback": [
            "\u001b[0;36m  File \u001b[0;32m\"<ipython-input-18-06bddd384c7d>\"\u001b[0;36m, line \u001b[0;32m4\u001b[0m\n\u001b[0;31m    \u001b[0m\n\u001b[0m    ^\u001b[0m\n\u001b[0;31mSyntaxError\u001b[0m\u001b[0;31m:\u001b[0m incomplete input\n"
          ]
        }
      ]
    },
    {
      "cell_type": "markdown",
      "source": [
        "Write YAML File\n"
      ],
      "metadata": {
        "id": "xgDwzWOJFSWX"
      }
    },
    {
      "cell_type": "code",
      "source": [
        "%%writefile file.yaml\n",
        "file_type: csv\n",
        "dataset_name : testfile\n",
        "file_name : Animation\n",
        "table_name : edsurv\n",
        "inbound_delimiter: \",\"\n",
        "skip_leading_rows: 1\n",
        "columns: ['animation_score', 'favorites', 'genre', 'rank', 'reviewers', 'studio', 'source', 'animeid', 'members', 'episodes', 'popularity', 'name', 'producers', 'airing']\n"
      ],
      "metadata": {
        "colab": {
          "base_uri": "https://localhost:8080/"
        },
        "id": "GnLx4uyPFUXX",
        "outputId": "af13fc51-f322-4ded-ed8d-ba02e22bc232"
      },
      "execution_count": 110,
      "outputs": [
        {
          "output_type": "stream",
          "name": "stdout",
          "text": [
            "Overwriting file.yaml\n"
          ]
        }
      ]
    },
    {
      "cell_type": "code",
      "source": [
        "import testutility as util\n",
        "config_data = util.read_config_file(\"file.yaml\")"
      ],
      "metadata": {
        "id": "hINJ7vpoLSbw"
      },
      "execution_count": 111,
      "outputs": []
    },
    {
      "cell_type": "code",
      "source": [
        "config_data[\"file_type\"]"
      ],
      "metadata": {
        "colab": {
          "base_uri": "https://localhost:8080/",
          "height": 35
        },
        "id": "YNqZ0pb9Lxh9",
        "outputId": "910c5958-d04d-46d5-ca72-9aed91a2c12c"
      },
      "execution_count": 112,
      "outputs": [
        {
          "output_type": "execute_result",
          "data": {
            "text/plain": [
              "'csv'"
            ],
            "application/vnd.google.colaboratory.intrinsic+json": {
              "type": "string"
            }
          },
          "metadata": {},
          "execution_count": 112
        }
      ]
    },
    {
      "cell_type": "code",
      "source": [
        "config_data\n"
      ],
      "metadata": {
        "colab": {
          "base_uri": "https://localhost:8080/"
        },
        "id": "EgAAIPndLZlB",
        "outputId": "c6f57f4d-c0f3-4330-8d25-3a162f781736"
      },
      "execution_count": 113,
      "outputs": [
        {
          "output_type": "execute_result",
          "data": {
            "text/plain": [
              "{'file_type': 'csv',\n",
              " 'dataset_name': 'testfile',\n",
              " 'file_name': 'Animation',\n",
              " 'table_name': 'edsurv',\n",
              " 'inbound_delimiter': ',',\n",
              " 'skip_leading_rows': 1,\n",
              " 'columns': ['animation_score',\n",
              "  'favorites',\n",
              "  'genre',\n",
              "  'rank',\n",
              "  'reviewers',\n",
              "  'studio',\n",
              "  'source',\n",
              "  'animeid',\n",
              "  'members',\n",
              "  'episodes',\n",
              "  'popularity',\n",
              "  'name',\n",
              "  'producers',\n",
              "  'airing']}"
            ]
          },
          "metadata": {},
          "execution_count": 113
        }
      ]
    },
    {
      "cell_type": "code",
      "source": [
        "import pandas as np\n",
        "df_sample = pd.read_csv(\"Animation.csv\", delimiter=\",\")\n",
        "df_sample.head()"
      ],
      "metadata": {
        "colab": {
          "base_uri": "https://localhost:8080/",
          "height": 206
        },
        "id": "TOk9zEd2MkfF",
        "outputId": "262d70e9-533c-47ea-d1c4-35204b320553"
      },
      "execution_count": 114,
      "outputs": [
        {
          "output_type": "execute_result",
          "data": {
            "text/plain": [
              "   animeID                             name    source             producers  \\\n",
              "0        1                     Cowboy Bebop  Original         Bandai Visual   \n",
              "1        5  Cowboy Bebop: Tengoku no Tobira  Original               Sunrise   \n",
              "2        6                           Trigun     Manga  Victor Entertainment   \n",
              "3        7               Witch Hunter Robin  Original         Bandai Visual   \n",
              "4        8                   Bouken Ou Beet     Manga              TV Tokyo   \n",
              "\n",
              "       genre          studio  episodes  airing  rank  popularity  members  \\\n",
              "0     Action         Sunrise      26.0   False    26          39   795733   \n",
              "1     Action           Bones       1.0   False   164         449   197791   \n",
              "2     Action        Madhouse      26.0   False   255         146   408548   \n",
              "3     Action         Sunrise      26.0   False  2371        1171    79397   \n",
              "4  Adventure  Toei Animation      52.0   False  3544        3704    11708   \n",
              "\n",
              "   favorites  reviewers  Animation_score  \n",
              "0      43460     405664             8.81  \n",
              "1        776     120243             8.41  \n",
              "2      10432     212537             8.30  \n",
              "3        537      32837             7.33  \n",
              "4         14       4894             7.03  "
            ],
            "text/html": [
              "\n",
              "  <div id=\"df-543c0fd3-e021-4124-9b1b-24c67049f552\" class=\"colab-df-container\">\n",
              "    <div>\n",
              "<style scoped>\n",
              "    .dataframe tbody tr th:only-of-type {\n",
              "        vertical-align: middle;\n",
              "    }\n",
              "\n",
              "    .dataframe tbody tr th {\n",
              "        vertical-align: top;\n",
              "    }\n",
              "\n",
              "    .dataframe thead th {\n",
              "        text-align: right;\n",
              "    }\n",
              "</style>\n",
              "<table border=\"1\" class=\"dataframe\">\n",
              "  <thead>\n",
              "    <tr style=\"text-align: right;\">\n",
              "      <th></th>\n",
              "      <th>animeID</th>\n",
              "      <th>name</th>\n",
              "      <th>source</th>\n",
              "      <th>producers</th>\n",
              "      <th>genre</th>\n",
              "      <th>studio</th>\n",
              "      <th>episodes</th>\n",
              "      <th>airing</th>\n",
              "      <th>rank</th>\n",
              "      <th>popularity</th>\n",
              "      <th>members</th>\n",
              "      <th>favorites</th>\n",
              "      <th>reviewers</th>\n",
              "      <th>Animation_score</th>\n",
              "    </tr>\n",
              "  </thead>\n",
              "  <tbody>\n",
              "    <tr>\n",
              "      <th>0</th>\n",
              "      <td>1</td>\n",
              "      <td>Cowboy Bebop</td>\n",
              "      <td>Original</td>\n",
              "      <td>Bandai Visual</td>\n",
              "      <td>Action</td>\n",
              "      <td>Sunrise</td>\n",
              "      <td>26.0</td>\n",
              "      <td>False</td>\n",
              "      <td>26</td>\n",
              "      <td>39</td>\n",
              "      <td>795733</td>\n",
              "      <td>43460</td>\n",
              "      <td>405664</td>\n",
              "      <td>8.81</td>\n",
              "    </tr>\n",
              "    <tr>\n",
              "      <th>1</th>\n",
              "      <td>5</td>\n",
              "      <td>Cowboy Bebop: Tengoku no Tobira</td>\n",
              "      <td>Original</td>\n",
              "      <td>Sunrise</td>\n",
              "      <td>Action</td>\n",
              "      <td>Bones</td>\n",
              "      <td>1.0</td>\n",
              "      <td>False</td>\n",
              "      <td>164</td>\n",
              "      <td>449</td>\n",
              "      <td>197791</td>\n",
              "      <td>776</td>\n",
              "      <td>120243</td>\n",
              "      <td>8.41</td>\n",
              "    </tr>\n",
              "    <tr>\n",
              "      <th>2</th>\n",
              "      <td>6</td>\n",
              "      <td>Trigun</td>\n",
              "      <td>Manga</td>\n",
              "      <td>Victor Entertainment</td>\n",
              "      <td>Action</td>\n",
              "      <td>Madhouse</td>\n",
              "      <td>26.0</td>\n",
              "      <td>False</td>\n",
              "      <td>255</td>\n",
              "      <td>146</td>\n",
              "      <td>408548</td>\n",
              "      <td>10432</td>\n",
              "      <td>212537</td>\n",
              "      <td>8.30</td>\n",
              "    </tr>\n",
              "    <tr>\n",
              "      <th>3</th>\n",
              "      <td>7</td>\n",
              "      <td>Witch Hunter Robin</td>\n",
              "      <td>Original</td>\n",
              "      <td>Bandai Visual</td>\n",
              "      <td>Action</td>\n",
              "      <td>Sunrise</td>\n",
              "      <td>26.0</td>\n",
              "      <td>False</td>\n",
              "      <td>2371</td>\n",
              "      <td>1171</td>\n",
              "      <td>79397</td>\n",
              "      <td>537</td>\n",
              "      <td>32837</td>\n",
              "      <td>7.33</td>\n",
              "    </tr>\n",
              "    <tr>\n",
              "      <th>4</th>\n",
              "      <td>8</td>\n",
              "      <td>Bouken Ou Beet</td>\n",
              "      <td>Manga</td>\n",
              "      <td>TV Tokyo</td>\n",
              "      <td>Adventure</td>\n",
              "      <td>Toei Animation</td>\n",
              "      <td>52.0</td>\n",
              "      <td>False</td>\n",
              "      <td>3544</td>\n",
              "      <td>3704</td>\n",
              "      <td>11708</td>\n",
              "      <td>14</td>\n",
              "      <td>4894</td>\n",
              "      <td>7.03</td>\n",
              "    </tr>\n",
              "  </tbody>\n",
              "</table>\n",
              "</div>\n",
              "    <div class=\"colab-df-buttons\">\n",
              "\n",
              "  <div class=\"colab-df-container\">\n",
              "    <button class=\"colab-df-convert\" onclick=\"convertToInteractive('df-543c0fd3-e021-4124-9b1b-24c67049f552')\"\n",
              "            title=\"Convert this dataframe to an interactive table.\"\n",
              "            style=\"display:none;\">\n",
              "\n",
              "  <svg xmlns=\"http://www.w3.org/2000/svg\" height=\"24px\" viewBox=\"0 -960 960 960\">\n",
              "    <path d=\"M120-120v-720h720v720H120Zm60-500h600v-160H180v160Zm220 220h160v-160H400v160Zm0 220h160v-160H400v160ZM180-400h160v-160H180v160Zm440 0h160v-160H620v160ZM180-180h160v-160H180v160Zm440 0h160v-160H620v160Z\"/>\n",
              "  </svg>\n",
              "    </button>\n",
              "\n",
              "  <style>\n",
              "    .colab-df-container {\n",
              "      display:flex;\n",
              "      gap: 12px;\n",
              "    }\n",
              "\n",
              "    .colab-df-convert {\n",
              "      background-color: #E8F0FE;\n",
              "      border: none;\n",
              "      border-radius: 50%;\n",
              "      cursor: pointer;\n",
              "      display: none;\n",
              "      fill: #1967D2;\n",
              "      height: 32px;\n",
              "      padding: 0 0 0 0;\n",
              "      width: 32px;\n",
              "    }\n",
              "\n",
              "    .colab-df-convert:hover {\n",
              "      background-color: #E2EBFA;\n",
              "      box-shadow: 0px 1px 2px rgba(60, 64, 67, 0.3), 0px 1px 3px 1px rgba(60, 64, 67, 0.15);\n",
              "      fill: #174EA6;\n",
              "    }\n",
              "\n",
              "    .colab-df-buttons div {\n",
              "      margin-bottom: 4px;\n",
              "    }\n",
              "\n",
              "    [theme=dark] .colab-df-convert {\n",
              "      background-color: #3B4455;\n",
              "      fill: #D2E3FC;\n",
              "    }\n",
              "\n",
              "    [theme=dark] .colab-df-convert:hover {\n",
              "      background-color: #434B5C;\n",
              "      box-shadow: 0px 1px 3px 1px rgba(0, 0, 0, 0.15);\n",
              "      filter: drop-shadow(0px 1px 2px rgba(0, 0, 0, 0.3));\n",
              "      fill: #FFFFFF;\n",
              "    }\n",
              "  </style>\n",
              "\n",
              "    <script>\n",
              "      const buttonEl =\n",
              "        document.querySelector('#df-543c0fd3-e021-4124-9b1b-24c67049f552 button.colab-df-convert');\n",
              "      buttonEl.style.display =\n",
              "        google.colab.kernel.accessAllowed ? 'block' : 'none';\n",
              "\n",
              "      async function convertToInteractive(key) {\n",
              "        const element = document.querySelector('#df-543c0fd3-e021-4124-9b1b-24c67049f552');\n",
              "        const dataTable =\n",
              "          await google.colab.kernel.invokeFunction('convertToInteractive',\n",
              "                                                    [key], {});\n",
              "        if (!dataTable) return;\n",
              "\n",
              "        const docLinkHtml = 'Like what you see? Visit the ' +\n",
              "          '<a target=\"_blank\" href=https://colab.research.google.com/notebooks/data_table.ipynb>data table notebook</a>'\n",
              "          + ' to learn more about interactive tables.';\n",
              "        element.innerHTML = '';\n",
              "        dataTable['output_type'] = 'display_data';\n",
              "        await google.colab.output.renderOutput(dataTable, element);\n",
              "        const docLink = document.createElement('div');\n",
              "        docLink.innerHTML = docLinkHtml;\n",
              "        element.appendChild(docLink);\n",
              "      }\n",
              "    </script>\n",
              "  </div>\n",
              "\n",
              "\n",
              "<div id=\"df-f40c5b55-020c-493a-a0da-de30698b81ba\">\n",
              "  <button class=\"colab-df-quickchart\" onclick=\"quickchart('df-f40c5b55-020c-493a-a0da-de30698b81ba')\"\n",
              "            title=\"Suggest charts.\"\n",
              "            style=\"display:none;\">\n",
              "\n",
              "<svg xmlns=\"http://www.w3.org/2000/svg\" height=\"24px\"viewBox=\"0 0 24 24\"\n",
              "     width=\"24px\">\n",
              "    <g>\n",
              "        <path d=\"M19 3H5c-1.1 0-2 .9-2 2v14c0 1.1.9 2 2 2h14c1.1 0 2-.9 2-2V5c0-1.1-.9-2-2-2zM9 17H7v-7h2v7zm4 0h-2V7h2v10zm4 0h-2v-4h2v4z\"/>\n",
              "    </g>\n",
              "</svg>\n",
              "  </button>\n",
              "\n",
              "<style>\n",
              "  .colab-df-quickchart {\n",
              "      --bg-color: #E8F0FE;\n",
              "      --fill-color: #1967D2;\n",
              "      --hover-bg-color: #E2EBFA;\n",
              "      --hover-fill-color: #174EA6;\n",
              "      --disabled-fill-color: #AAA;\n",
              "      --disabled-bg-color: #DDD;\n",
              "  }\n",
              "\n",
              "  [theme=dark] .colab-df-quickchart {\n",
              "      --bg-color: #3B4455;\n",
              "      --fill-color: #D2E3FC;\n",
              "      --hover-bg-color: #434B5C;\n",
              "      --hover-fill-color: #FFFFFF;\n",
              "      --disabled-bg-color: #3B4455;\n",
              "      --disabled-fill-color: #666;\n",
              "  }\n",
              "\n",
              "  .colab-df-quickchart {\n",
              "    background-color: var(--bg-color);\n",
              "    border: none;\n",
              "    border-radius: 50%;\n",
              "    cursor: pointer;\n",
              "    display: none;\n",
              "    fill: var(--fill-color);\n",
              "    height: 32px;\n",
              "    padding: 0;\n",
              "    width: 32px;\n",
              "  }\n",
              "\n",
              "  .colab-df-quickchart:hover {\n",
              "    background-color: var(--hover-bg-color);\n",
              "    box-shadow: 0 1px 2px rgba(60, 64, 67, 0.3), 0 1px 3px 1px rgba(60, 64, 67, 0.15);\n",
              "    fill: var(--button-hover-fill-color);\n",
              "  }\n",
              "\n",
              "  .colab-df-quickchart-complete:disabled,\n",
              "  .colab-df-quickchart-complete:disabled:hover {\n",
              "    background-color: var(--disabled-bg-color);\n",
              "    fill: var(--disabled-fill-color);\n",
              "    box-shadow: none;\n",
              "  }\n",
              "\n",
              "  .colab-df-spinner {\n",
              "    border: 2px solid var(--fill-color);\n",
              "    border-color: transparent;\n",
              "    border-bottom-color: var(--fill-color);\n",
              "    animation:\n",
              "      spin 1s steps(1) infinite;\n",
              "  }\n",
              "\n",
              "  @keyframes spin {\n",
              "    0% {\n",
              "      border-color: transparent;\n",
              "      border-bottom-color: var(--fill-color);\n",
              "      border-left-color: var(--fill-color);\n",
              "    }\n",
              "    20% {\n",
              "      border-color: transparent;\n",
              "      border-left-color: var(--fill-color);\n",
              "      border-top-color: var(--fill-color);\n",
              "    }\n",
              "    30% {\n",
              "      border-color: transparent;\n",
              "      border-left-color: var(--fill-color);\n",
              "      border-top-color: var(--fill-color);\n",
              "      border-right-color: var(--fill-color);\n",
              "    }\n",
              "    40% {\n",
              "      border-color: transparent;\n",
              "      border-right-color: var(--fill-color);\n",
              "      border-top-color: var(--fill-color);\n",
              "    }\n",
              "    60% {\n",
              "      border-color: transparent;\n",
              "      border-right-color: var(--fill-color);\n",
              "    }\n",
              "    80% {\n",
              "      border-color: transparent;\n",
              "      border-right-color: var(--fill-color);\n",
              "      border-bottom-color: var(--fill-color);\n",
              "    }\n",
              "    90% {\n",
              "      border-color: transparent;\n",
              "      border-bottom-color: var(--fill-color);\n",
              "    }\n",
              "  }\n",
              "</style>\n",
              "\n",
              "  <script>\n",
              "    async function quickchart(key) {\n",
              "      const quickchartButtonEl =\n",
              "        document.querySelector('#' + key + ' button');\n",
              "      quickchartButtonEl.disabled = true;  // To prevent multiple clicks.\n",
              "      quickchartButtonEl.classList.add('colab-df-spinner');\n",
              "      try {\n",
              "        const charts = await google.colab.kernel.invokeFunction(\n",
              "            'suggestCharts', [key], {});\n",
              "      } catch (error) {\n",
              "        console.error('Error during call to suggestCharts:', error);\n",
              "      }\n",
              "      quickchartButtonEl.classList.remove('colab-df-spinner');\n",
              "      quickchartButtonEl.classList.add('colab-df-quickchart-complete');\n",
              "    }\n",
              "    (() => {\n",
              "      let quickchartButtonEl =\n",
              "        document.querySelector('#df-f40c5b55-020c-493a-a0da-de30698b81ba button');\n",
              "      quickchartButtonEl.style.display =\n",
              "        google.colab.kernel.accessAllowed ? 'block' : 'none';\n",
              "    })();\n",
              "  </script>\n",
              "</div>\n",
              "    </div>\n",
              "  </div>\n"
            ]
          },
          "metadata": {},
          "execution_count": 114
        }
      ]
    },
    {
      "cell_type": "code",
      "source": [
        "#read the file using config file\n",
        "file_type = config_data['file_type']\n",
        "source_file = \"./\" + config_data['file_name'] + f'.{file_type}'\n",
        "print(source_file)\n",
        "#print(\"\", source_file)\n",
        "df = pd.read_csv(source_file, delimiter=config_data['inbound_delimiter'])\n",
        "\n"
      ],
      "metadata": {
        "id": "qG0HyF5kMsza",
        "colab": {
          "base_uri": "https://localhost:8080/"
        },
        "outputId": "ffdf72e9-9e07-41c5-e06f-04389f0fef24"
      },
      "execution_count": 116,
      "outputs": [
        {
          "output_type": "stream",
          "name": "stdout",
          "text": [
            "./Animation.csv\n"
          ]
        }
      ]
    },
    {
      "cell_type": "code",
      "source": [
        "with open(source_file, 'r') as file:\n",
        "    first_line = file.readline()\n",
        "    delimiters = [',', ';', '\\t']  # common delimiters to check\n",
        "\n",
        "    for delimiter in delimiters:\n",
        "        if delimiter in first_line:\n",
        "            print(f\"The delimiter in the file is: {delimiter}\")\n",
        "            break\n",
        "    else:\n",
        "        print(\"Delimiter not found in the first line. Please check the file structure.\")\n"
      ],
      "metadata": {
        "colab": {
          "base_uri": "https://localhost:8080/"
        },
        "id": "QaRfjq5IQj8u",
        "outputId": "5bbce1e7-c419-4a1c-ace1-5930da7fa592"
      },
      "execution_count": 117,
      "outputs": [
        {
          "output_type": "stream",
          "name": "stdout",
          "text": [
            "The delimiter in the file is: ,\n"
          ]
        }
      ]
    },
    {
      "cell_type": "code",
      "source": [
        "util.col_header_val(df, config_data)"
      ],
      "metadata": {
        "id": "wNRAgmuRNIsV",
        "colab": {
          "base_uri": "https://localhost:8080/"
        },
        "outputId": "6d7935f5-cb14-4428-e54e-535e9208e541"
      },
      "execution_count": 118,
      "outputs": [
        {
          "output_type": "stream",
          "name": "stdout",
          "text": [
            "Column name and column length validation passed\n"
          ]
        },
        {
          "output_type": "stream",
          "name": "stderr",
          "text": [
            "/content/testutility.py:24: FutureWarning: The default value of regex will change from True to False in a future version.\n",
            "  \"\"\"\n"
          ]
        },
        {
          "output_type": "execute_result",
          "data": {
            "text/plain": [
              "1"
            ]
          },
          "metadata": {},
          "execution_count": 118
        }
      ]
    },
    {
      "cell_type": "code",
      "source": [
        "print(\"columns of files are\", df.columns)\n",
        "print(\"columns of YAML are:\", config_data[\"columns\"])\n"
      ],
      "metadata": {
        "colab": {
          "base_uri": "https://localhost:8080/"
        },
        "id": "4HoPWKC_RAaQ",
        "outputId": "cbd9fad5-c371-4270-cebd-c6a5fb0f1004"
      },
      "execution_count": 119,
      "outputs": [
        {
          "output_type": "stream",
          "name": "stdout",
          "text": [
            "columns of files are Index(['animeid', 'name', 'source', 'producers', 'genre', 'studio', 'episodes',\n",
            "       'airing', 'rank', 'popularity', 'members', 'favorites', 'reviewers',\n",
            "       'animation_score'],\n",
            "      dtype='object')\n",
            "columns of YAML are: ['animation_score', 'favorites', 'genre', 'rank', 'reviewers', 'studio', 'source', 'animeid', 'members', 'episodes', 'popularity', 'name', 'producers', 'airing']\n"
          ]
        }
      ]
    },
    {
      "cell_type": "code",
      "source": [
        "if util.col_header_val(df, config_data)==0:\n",
        "  print(\"validation failed\")\n",
        "else:\n",
        "  print(\"col validation passed\")"
      ],
      "metadata": {
        "colab": {
          "base_uri": "https://localhost:8080/"
        },
        "id": "InNgF-klRPTd",
        "outputId": "6caf33fb-1104-407a-e5f7-7fa089753b58"
      },
      "execution_count": 120,
      "outputs": [
        {
          "output_type": "stream",
          "name": "stdout",
          "text": [
            "Column name and column length validation passed\n",
            "col validation passed\n"
          ]
        },
        {
          "output_type": "stream",
          "name": "stderr",
          "text": [
            "/content/testutility.py:24: FutureWarning: The default value of regex will change from True to False in a future version.\n",
            "  \"\"\"\n"
          ]
        }
      ]
    },
    {
      "cell_type": "code",
      "source": [
        "df = pd.read_csv(\"Animation.csv\")\n"
      ],
      "metadata": {
        "id": "4ecit3kPRu26"
      },
      "execution_count": 124,
      "outputs": []
    },
    {
      "cell_type": "code",
      "source": [
        "\n",
        "\n",
        "df.to_csv('output_file.csv.gz', sep='|', index=False, compression='gzip')\n",
        "\n",
        "\n",
        "file_size = os.path.getsize('output_file.csv.gz')\n",
        "\n",
        "num_rows = df.shape[0]\n",
        "num_cols = df.shape[1]\n",
        "\n",
        "# Print the summary\n",
        "print(f\"Summary of the file '{'output_file.csv.gz'}':\")\n",
        "print(f\"Total number of rows: {num_rows}\")\n",
        "print(f\"Total number of columns: {num_cols}\")\n",
        "print(f\"File size: {file_size} bytes\")\n"
      ],
      "metadata": {
        "colab": {
          "base_uri": "https://localhost:8080/"
        },
        "id": "InPIYgP8YDga",
        "outputId": "ef546bd9-d709-413e-9012-2f963b67f088"
      },
      "execution_count": 127,
      "outputs": [
        {
          "output_type": "stream",
          "name": "stdout",
          "text": [
            "Summary of the file 'output_file.csv.gz':\n",
            "Total number of rows: 13631\n",
            "Total number of columns: 14\n",
            "File size: 515711 bytes\n"
          ]
        }
      ]
    }
  ]
}